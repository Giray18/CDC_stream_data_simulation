{
 "cells": [
  {
   "cell_type": "code",
   "execution_count": 41,
   "metadata": {},
   "outputs": [],
   "source": [
    "from kafka import KafkaProducer\n",
    "from faker import Faker\n",
    "import random\n",
    "import json\n",
    "import time"
   ]
  },
  {
   "cell_type": "code",
   "execution_count": 42,
   "metadata": {},
   "outputs": [],
   "source": [
    "# producer = KafkaProducer(\n",
    "#     bootstrap_servers='settled-terrapin-12518-eu2-kafka.upstash.io:9092',\n",
    "#     sasl_mechanism='SCRAM-SHA-256',\n",
    "#     security_protocol='SASL_SSL',\n",
    "#     sasl_plain_username='c2V0dGxlZC10ZXJyYXBpbi0xMjUxOCTBb5AEffUiTulATzsbFtDRxbvhkO0Wsnc',\n",
    "#     sasl_plain_password='N2E2ZGVjY2UtZDY4YS00MjM4LTk5NTktMjU1OTRiZWQ4Y2Ix'\n",
    "# )\n",
    "\n",
    "# try:\n",
    "#     producer.send('sec_topic', b'besdaqweqewewesdss_davar_dik')\n",
    "#     producer.flush()\n",
    "#     print(\"Message produced without Avro schema!\")\n",
    "# except Exception as e:\n",
    "#     print(f\"Error producing message: {e}\")\n",
    "# finally:\n",
    "#     producer.close()"
   ]
  },
  {
   "cell_type": "code",
   "execution_count": 43,
   "metadata": {},
   "outputs": [
    {
     "name": "stdout",
     "output_type": "stream",
     "text": [
      "Producer started!\n",
      "Message produced: {'name': 'Tammy Nguyen'}\n",
      "Message produced: {'name': 'Edward Estrada'}\n",
      "Message produced: {'name': 'Dustin Thomas'}\n",
      "Message produced: {'name': 'Katrina Lee'}\n",
      "Message produced: {'name': 'Gary Hill'}\n",
      "Message produced: {'name': 'Kristin Gonzalez'}\n",
      "Message produced: {'name': 'Joel Jackson'}\n",
      "Message produced: {'name': 'Timothy Fernandez'}\n",
      "Message produced: {'name': 'Marcus Diaz'}\n",
      "Message produced: {'name': 'Stephanie Green'}\n",
      "Message produced: {'name': 'Brianna Jones'}\n"
     ]
    },
    {
     "ename": "KeyboardInterrupt",
     "evalue": "",
     "output_type": "error",
     "traceback": [
      "\u001b[1;31m---------------------------------------------------------------------------\u001b[0m",
      "\u001b[1;31mKeyboardInterrupt\u001b[0m                         Traceback (most recent call last)",
      "Cell \u001b[1;32mIn[43], line 30\u001b[0m\n\u001b[0;32m     27\u001b[0m         \u001b[38;5;28mprint\u001b[39m(\u001b[38;5;124mf\u001b[39m\u001b[38;5;124m\"\u001b[39m\u001b[38;5;124mError producing message: \u001b[39m\u001b[38;5;132;01m{\u001b[39;00me\u001b[38;5;132;01m}\u001b[39;00m\u001b[38;5;124m\"\u001b[39m)\n\u001b[0;32m     29\u001b[0m     \u001b[38;5;66;03m# Wait a few seconds before sending another message\u001b[39;00m\n\u001b[1;32m---> 30\u001b[0m     time\u001b[38;5;241m.\u001b[39msleep(random\u001b[38;5;241m.\u001b[39mrandrange(\u001b[38;5;241m5\u001b[39m,\u001b[38;5;241m8\u001b[39m))\n\u001b[0;32m     31\u001b[0m producer\u001b[38;5;241m.\u001b[39mclose()\n",
      "\u001b[1;31mKeyboardInterrupt\u001b[0m: "
     ]
    }
   ],
   "source": [
    "producer = KafkaProducer(\n",
    "    bootstrap_servers='settled-terrapin-12518-eu2-kafka.upstash.io:9092',\n",
    "    sasl_mechanism='SCRAM-SHA-256',\n",
    "    security_protocol='SASL_SSL',\n",
    "    sasl_plain_username='c2V0dGxlZC10ZXJyYXBpbi0xMjUxOCTBb5AEffUiTulATzsbFtDRxbvhkO0Wsnc',\n",
    "    sasl_plain_password='N2E2ZGVjY2UtZDY4YS00MjM4LTk5NTktMjU1OTRiZWQ4Y2Ix',\n",
    "    # api_version_auto_timeout_ms=100000,    \n",
    ")\n",
    "print(\"Producer started!\")\n",
    "fake = Faker()\n",
    "\n",
    "while True:\n",
    "    # Define message to publish\n",
    "    data_dict = {\n",
    "        'name': fake.name(),\n",
    "        # 'address': fake.address(),\n",
    "        # 'age': random.randrange(10, 100)\n",
    "    }\n",
    "    data_json_str = json.dumps(data_dict).encode('utf-8')\n",
    "    \n",
    "    # Publish message\n",
    "    try:\n",
    "        result = producer.send('dingilaz', data_json_str).get(timeout = 60)\n",
    "        producer.flush()\n",
    "        print(\"Message produced:\", data_dict)\n",
    "    except Exception as e:\n",
    "        print(f\"Error producing message: {e}\")\n",
    "    \n",
    "    # Wait a few seconds before sending another message\n",
    "    time.sleep(random.randrange(5,8))\n",
    "producer.close()"
   ]
  },
  {
   "cell_type": "code",
   "execution_count": null,
   "metadata": {},
   "outputs": [],
   "source": [
    "producer = KafkaProducer(\n",
    "    bootstrap_servers='settled-terrapin-12518-eu2-kafka.upstash.io:9092',\n",
    "    sasl_mechanism='SCRAM-SHA-256',\n",
    "    security_protocol='SASL_SSL',\n",
    "    sasl_plain_username='c2V0dGxlZC10ZXJyYXBpbi0xMjUxOCTBb5AEffUiTulATzsbFtDRxbvhkO0Wsnc',\n",
    "    sasl_plain_password='N2E2ZGVjY2UtZDY4YS00MjM4LTk5NTktMjU1OTRiZWQ4Y2Ix',\n",
    "    # api_version_auto_timeout_ms=100000,    \n",
    ")\n",
    "print(\"Producer started!\")\n",
    "\n",
    "while True:\n",
    "    # Define message to publish\n",
    "    data_dict = {\n",
    "        'name': fake.name(),\n",
    "        # 'address': fake.address(),\n",
    "        # 'age': random.randrange(10, 100)\n",
    "    }\n",
    "    data_json_str = json.dumps(data_dict).encode('utf-8')\n",
    "    \n",
    "    # Publish message\n",
    "    try:\n",
    "        result = producer.send('dingilaz', data_json_str).get(timeout = 60)\n",
    "        producer.flush()\n",
    "        print(\"Message produced:\", data_dict)\n",
    "    except Exception as e:\n",
    "        print(f\"Error producing message: {e}\")\n",
    "    \n",
    "    # Wait a few seconds before sending another message\n",
    "    time.sleep(random.randrange(5,8))\n",
    "producer.close()"
   ]
  }
 ],
 "metadata": {
  "kernelspec": {
   "display_name": "Python 3",
   "language": "python",
   "name": "python3"
  },
  "language_info": {
   "codemirror_mode": {
    "name": "ipython",
    "version": 3
   },
   "file_extension": ".py",
   "mimetype": "text/x-python",
   "name": "python",
   "nbconvert_exporter": "python",
   "pygments_lexer": "ipython3",
   "version": "3.11.1"
  }
 },
 "nbformat": 4,
 "nbformat_minor": 2
}
